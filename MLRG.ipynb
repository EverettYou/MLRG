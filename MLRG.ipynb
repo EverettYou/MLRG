{
 "cells": [
  {
   "cell_type": "code",
   "execution_count": 1,
   "id": "c279623b-527e-4069-b16c-065b9ae05c75",
   "metadata": {},
   "outputs": [],
   "source": [
    "%run 'MLRG.py'"
   ]
  },
  {
   "cell_type": "code",
   "execution_count": 3,
   "id": "0ab2cba9-6cd2-40ac-8714-e86fefc66417",
   "metadata": {},
   "outputs": [
    {
     "data": {
      "text/plain": [
       "<All keys matched successfully>"
      ]
     },
     "execution_count": 3,
     "metadata": {},
     "output_type": "execute_result"
    }
   ],
   "source": [
    "mlrg = MLRG(Sn_dat[2],['A1','E'],[12,24,6]).to(device)\n",
    "mlrg.load_state_dict(torch.load(\"./models/A1E/\" + \"finetune/mlrg_A1E.pth\", map_location=device))"
   ]
  },
  {
   "cell_type": "code",
   "execution_count": 4,
   "id": "bb8c5c8b-0d18-4154-81d7-5435517060f8",
   "metadata": {},
   "outputs": [],
   "source": [
    "optimizer=torch.optim.Adam(mlrg.parameters(), lr=0.0001)"
   ]
  },
  {
   "cell_type": "code",
   "execution_count": 5,
   "id": "cb846fd0-83da-4a81-8ebd-12b9241f6450",
   "metadata": {},
   "outputs": [],
   "source": [
    "Jtch = torch.randn(1000, 5).to(device)"
   ]
  },
  {
   "cell_type": "code",
   "execution_count": 25,
   "id": "9d12c2d6-e9e6-4885-93f4-555b09fbf90a",
   "metadata": {},
   "outputs": [
    {
     "name": "stdout",
     "output_type": "stream",
     "text": [
      "0: 0.09572333097457886 0.7529486417770386\n",
      "1: 0.07088397443294525 0.7904666662216187\n",
      "2: 0.058543041348457336 0.8279029130935669\n",
      "3: 0.059013307094573975 0.8809372782707214\n"
     ]
    }
   ],
   "source": [
    "for i in range(200):\n",
    "    optimizer.zero_grad()\n",
    "    Jtch = mlrg.propose(Jtch, beta=5.,lamb=0.,mu=0.,steps=8)\n",
    "    loss = mlrg.loss(Jtch=Jtch, samples=5000, gibbssteps=50, cdsteps=5).mean(-1)\n",
    "    loss.backward()\n",
    "    optimizer.step()\n",
    "    torch.save(mlrg.state_dict(), \"./models/A1E/\" + \"finetune/mlrg_A1E.pth\")\n",
    "    print(f'{i}: {loss.item()} {Jtch.abs().mean()}')"
   ]
  },
  {
   "cell_type": "code",
   "execution_count": null,
   "id": "2bc9dd09-c334-4471-b2c7-b8117a9e3234",
   "metadata": {},
   "outputs": [],
   "source": []
  }
 ],
 "metadata": {
  "kernelspec": {
   "display_name": "Python 3",
   "language": "python",
   "name": "python3"
  },
  "language_info": {
   "codemirror_mode": {
    "name": "ipython",
    "version": 3
   },
   "file_extension": ".py",
   "mimetype": "text/x-python",
   "name": "python",
   "nbconvert_exporter": "python",
   "pygments_lexer": "ipython3",
   "version": "3.8.10"
  }
 },
 "nbformat": 4,
 "nbformat_minor": 5
}
